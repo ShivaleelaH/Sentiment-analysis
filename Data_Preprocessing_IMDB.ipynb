{
  "nbformat": 4,
  "nbformat_minor": 0,
  "metadata": {
    "colab": {
      "name": "Data_Preprocessing_IMDB.ipynb",
      "provenance": [],
      "collapsed_sections": []
    },
    "kernelspec": {
      "name": "python3",
      "display_name": "Python 3"
    }
  },
  "cells": [
    {
      "cell_type": "markdown",
      "metadata": {
        "id": "Fi7Ee30ycwml"
      },
      "source": [
        "# Prepare Data for Training & Validating & Testing\n",
        "\n",
        "Reference: https://github.com/PerpetualSmile/Sentiment-Analylsis-based-on-Attention-Mechanism/blob/master/Data%20Preprocess.ipynb"
      ]
    },
    {
      "cell_type": "markdown",
      "metadata": {
        "id": "767PJ6MnczPg"
      },
      "source": [
        "### **IMPORTANT**: \n",
        "\n",
        "*   Upload utils.py\n",
        "*   Upload 'imdb_master.csv' \n",
        "\n",
        "*   Create the following folders in the same structure:\n",
        "  *   dataset\n",
        "      *   IMDB"
      ]
    },
    {
      "cell_type": "code",
      "metadata": {
        "colab": {
          "base_uri": "https://localhost:8080/"
        },
        "id": "_eIMG6D2ceGk",
        "outputId": "ad9d3c61-9a9c-453f-dd4e-db74bf0d18aa"
      },
      "source": [
        "import numpy as np\n",
        "import pandas as pd\n",
        "from sklearn.model_selection import train_test_split\n",
        "import matplotlib.pyplot as plt\n",
        "import warnings\n",
        "warnings.filterwarnings('ignore')\n",
        "\n",
        "import nltk\n",
        "nltk.download('stopwords')\n",
        "nltk.download('wordnet')\n",
        "from utils import clean_text, clean_text_zh\n",
        "%matplotlib inline\n",
        "%load_ext autoreload\n",
        "%autoreload 2"
      ],
      "execution_count": 1,
      "outputs": [
        {
          "output_type": "stream",
          "text": [
            "[nltk_data] Downloading package stopwords to /root/nltk_data...\n",
            "[nltk_data]   Unzipping corpora/stopwords.zip.\n",
            "[nltk_data] Downloading package wordnet to /root/nltk_data...\n",
            "[nltk_data]   Unzipping corpora/wordnet.zip.\n"
          ],
          "name": "stdout"
        }
      ]
    },
    {
      "cell_type": "markdown",
      "metadata": {
        "id": "xGCDj017dAE8"
      },
      "source": [
        "## Reading data"
      ]
    },
    {
      "cell_type": "code",
      "metadata": {
        "id": "eF7hrgcFc80F"
      },
      "source": [
        "df = pd.read_csv('imdb_master.csv', encoding='latin-1', engine='python', error_bad_lines=False)"
      ],
      "execution_count": 2,
      "outputs": []
    },
    {
      "cell_type": "markdown",
      "metadata": {
        "id": "AqMMQfr9dCar"
      },
      "source": [
        "## Cleaning data"
      ]
    },
    {
      "cell_type": "code",
      "metadata": {
        "id": "TfFgQAkmdCEM"
      },
      "source": [
        "df = df[df['label'] != 'unsup']\n",
        "df['label'] = df['label'].map({'neg':0, 'pos':1})\n",
        "\n",
        "df['Processed_Reviews'] = df['review'].apply(clean_text)"
      ],
      "execution_count": 3,
      "outputs": []
    },
    {
      "cell_type": "markdown",
      "metadata": {
        "id": "2savIpEjdG9S"
      },
      "source": [
        "## Splitting data"
      ]
    },
    {
      "cell_type": "code",
      "metadata": {
        "id": "qQAJXBN_c_pJ"
      },
      "source": [
        "df_train, df_test = train_test_split(df, test_size=0.1, random_state=0, stratify=df.label)\n",
        "df_train, df_validate = train_test_split(df_train, test_size=5000, random_state=0, stratify=df_train.label)"
      ],
      "execution_count": 4,
      "outputs": []
    },
    {
      "cell_type": "markdown",
      "metadata": {
        "id": "re4KE8RwdLCN"
      },
      "source": [
        "## Save test.csv for attention visualization"
      ]
    },
    {
      "cell_type": "code",
      "metadata": {
        "id": "AUVHkrWedQUC"
      },
      "source": [
        "df_test.to_csv (r'IMDB_test.csv', index = False, header=True)"
      ],
      "execution_count": 7,
      "outputs": []
    },
    {
      "cell_type": "markdown",
      "metadata": {
        "id": "fLxYf6OWdT5I"
      },
      "source": [
        "## Size of train, validate and test dataset"
      ]
    },
    {
      "cell_type": "code",
      "metadata": {
        "colab": {
          "base_uri": "https://localhost:8080/"
        },
        "id": "rLPE5N6JdTpe",
        "outputId": "16cd43b8-cf7c-4394-8973-d823a6efafef"
      },
      "source": [
        "print(\"Train set size: \", len(df_train))\n",
        "print(\"Validation set size: \", len(df_validate))\n",
        "print(\"Test set size: \", len(df_test))"
      ],
      "execution_count": 8,
      "outputs": [
        {
          "output_type": "stream",
          "text": [
            "Train set size:  40000\n",
            "Validation set size:  5000\n",
            "Test set size:  5000\n"
          ],
          "name": "stdout"
        }
      ]
    },
    {
      "cell_type": "markdown",
      "metadata": {
        "id": "ECCrhd1OdXJV"
      },
      "source": [
        "## Plot distribution of sentence length"
      ]
    },
    {
      "cell_type": "code",
      "metadata": {
        "colab": {
          "base_uri": "https://localhost:8080/",
          "height": 295
        },
        "id": "r8SwyC8XdZdC",
        "outputId": "faca9b41-95fd-42ab-ad6d-57269c862df7"
      },
      "source": [
        "plt.figure()\n",
        "_ = plt.hist(df_train.Processed_Reviews.apply(lambda x: len(x.split())), bins = 100)\n",
        "plt.title('Distribution of sentence length')\n",
        "plt.xlabel('Length')\n",
        "plt.ylabel('Counts')\n",
        "plt.savefig('Yelp_Distribution_of_sentence_length.png')"
      ],
      "execution_count": 9,
      "outputs": [
        {
          "output_type": "display_data",
          "data": {
            "image/png": "[encoded data removed]",
            "text/plain": [
              "<Figure size 432x288 with 1 Axes>"
            ]
          },
          "metadata": {
            "tags": [],
            "needs_background": "light"
          }
        }
      ]
    },
    {
      "cell_type": "markdown",
      "metadata": {
        "id": "bHmArqr5ddi6"
      },
      "source": [
        "## Word sequence to num sequence"
      ]
    },
    {
      "cell_type": "code",
      "metadata": {
        "id": "9nmcNye7de_T"
      },
      "source": [
        "word_count = {}\n",
        "def count(x):\n",
        "    for word in x.split():\n",
        "        word_count[word] = word_count.get(word, 0) + 1"
      ],
      "execution_count": 10,
      "outputs": []
    },
    {
      "cell_type": "code",
      "metadata": {
        "id": "rJgcYsiedhc7"
      },
      "source": [
        "_ = df_train.Processed_Reviews.apply(count)"
      ],
      "execution_count": 11,
      "outputs": []
    },
    {
      "cell_type": "code",
      "metadata": {
        "id": "C_6nxUgYdjli"
      },
      "source": [
        "df_word_count = pd.DataFrame(list(word_count.items()), columns=['word', 'count'])\n",
        "df_word_count.sort_values(by='count', ascending=False, inplace=True)\n",
        "df_word_count.set_index('word', inplace=True)"
      ],
      "execution_count": 12,
      "outputs": []
    },
    {
      "cell_type": "code",
      "metadata": {
        "id": "JzjhvDrkdljR"
      },
      "source": [
        "df_word_count.drop(['the', 'a', 'and', 'of', 'to', 'br', 'in', 'this', 'that', 's'], inplace=True)"
      ],
      "execution_count": 13,
      "outputs": []
    },
    {
      "cell_type": "code",
      "metadata": {
        "id": "MBLNOrN6dm_h"
      },
      "source": [
        "vocab_size = 20000\n",
        "df_word_count = df_word_count[:vocab_size-3]"
      ],
      "execution_count": 14,
      "outputs": []
    },
    {
      "cell_type": "code",
      "metadata": {
        "id": "2yQqHU14doJY"
      },
      "source": [
        "word2num_series = df_word_count.reset_index().reset_index().set_index('word')['index'] + 3 # reverse 0, 1, 2 for padding, BOS, EOS"
      ],
      "execution_count": 15,
      "outputs": []
    },
    {
      "cell_type": "code",
      "metadata": {
        "id": "Lwon6J_9dqEN"
      },
      "source": [
        "X_train = df_train.Processed_Reviews.apply(lambda x: np.array([word2num_series[word] for word in x.split() if word in word2num_series], dtype=np.int32))\n",
        "y_train = df_train.label"
      ],
      "execution_count": 16,
      "outputs": []
    },
    {
      "cell_type": "markdown",
      "metadata": {
        "id": "OM8RoOc5du2u"
      },
      "source": [
        "## Process validation set and test set"
      ]
    },
    {
      "cell_type": "code",
      "metadata": {
        "id": "TzZwMXaidvym"
      },
      "source": [
        "X_val = df_validate.Processed_Reviews.apply(lambda x: np.array([word2num_series[word] for word in x.split() if word in word2num_series], dtype=np.int32))\n",
        "X_test = df_test.Processed_Reviews.apply(lambda x: np.array([word2num_series[word] for word in x.split() if word in word2num_series], dtype=np.int32))\n",
        "y_val = df_validate.label\n",
        "y_test = df_test.label"
      ],
      "execution_count": 17,
      "outputs": []
    },
    {
      "cell_type": "markdown",
      "metadata": {
        "id": "1rEToKS0dzN9"
      },
      "source": [
        "## Save the data into hdf file format"
      ]
    },
    {
      "cell_type": "code",
      "metadata": {
        "id": "GwLDaHqid3FL"
      },
      "source": [
        "X_train.to_hdf('dataset/IMDB/X_train.h5', key='s', mode='w')\n",
        "y_train.to_hdf('dataset/IMDB/y_train.h5', key='s', mode='w')\n",
        "\n",
        "X_val.to_hdf('dataset/IMDB/X_val.h5', key='s', mode='w')\n",
        "y_val.to_hdf('dataset/IMDB/y_val.h5', key='s', mode='w')\n",
        "\n",
        "X_test.to_hdf('dataset/IMDB/X_test.h5', key='s', mode='w')\n",
        "y_test.to_hdf('dataset/IMDB/y_test.h5', key='s', mode='w')\n",
        "word2num_series.to_hdf('dataset/IMDB/word2num_series.h5', key='s', mode='w')"
      ],
      "execution_count": 18,
      "outputs": []
    },
    {
      "cell_type": "code",
      "metadata": {
        "id": "CmsUOZ3HfdOj"
      },
      "source": [
        ""
      ],
      "execution_count": 18,
      "outputs": []
    }
  ]
}