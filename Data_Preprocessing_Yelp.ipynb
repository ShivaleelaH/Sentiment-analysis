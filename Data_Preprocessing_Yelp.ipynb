{
  "nbformat": 4,
  "nbformat_minor": 0,
  "metadata": {
    "colab": {
      "name": "Data_Preprocessing_Yelp.ipynb",
      "provenance": [],
      "collapsed_sections": [],
      "toc_visible": true
    },
    "kernelspec": {
      "name": "python3",
      "display_name": "Python 3"
    },
    "accelerator": "GPU"
  },
  "cells": [
    {
      "cell_type": "markdown",
      "metadata": {
        "id": "CHI3AiFrvnRY"
      },
      "source": [
        "# Prepare Data for Training & Validating & Testing\n",
        "\n",
        "Reference: https://github.com/PerpetualSmile/Sentiment-Analylsis-based-on-Attention-Mechanism/blob/master/Data%20Preprocess.ipynb"
      ]
    },
    {
      "cell_type": "markdown",
      "metadata": {
        "id": "a1xt12zezoWd"
      },
      "source": [
        "### **IMPORTANT**: \n",
        "\n",
        "*   Upload utils.py\n",
        "*   Upload 'yelp_train.csv' and 'yelp_test.csv'\n",
        "\n",
        "*   Create the following folders in the same structure:\n",
        "  *   dataset\n",
        "      *   Yelp"
      ]
    },
    {
      "cell_type": "code",
      "metadata": {
        "colab": {
          "base_uri": "https://localhost:8080/"
        },
        "id": "kdPeG_dbvgOJ",
        "outputId": "d878e23d-9b3c-4fd9-d2d0-1b60834a57e7"
      },
      "source": [
        "import numpy as np\n",
        "import pandas as pd\n",
        "from sklearn.model_selection import train_test_split\n",
        "import matplotlib.pyplot as plt\n",
        "import warnings\n",
        "warnings.filterwarnings('ignore')\n",
        "\n",
        "import nltk\n",
        "nltk.download('stopwords')\n",
        "nltk.download('wordnet')\n",
        "from utils import clean_text, clean_text_zh\n",
        "%matplotlib inline\n",
        "%load_ext autoreload\n",
        "%autoreload 2"
      ],
      "execution_count": 18,
      "outputs": [
        {
          "output_type": "stream",
          "text": [
            "[nltk_data] Downloading package stopwords to /root/nltk_data...\n",
            "[nltk_data]   Package stopwords is already up-to-date!\n",
            "[nltk_data] Downloading package wordnet to /root/nltk_data...\n",
            "[nltk_data]   Package wordnet is already up-to-date!\n",
            "The autoreload extension is already loaded. To reload it, use:\n",
            "  %reload_ext autoreload\n"
          ],
          "name": "stdout"
        }
      ]
    },
    {
      "cell_type": "markdown",
      "metadata": {
        "id": "wknklpVIfvw2"
      },
      "source": [
        "## Reading data"
      ]
    },
    {
      "cell_type": "code",
      "metadata": {
        "id": "CbtyC6oVfxuI"
      },
      "source": [
        "df = pd.read_csv('yelp_train.csv', encoding='latin-1', engine='python', error_bad_lines=False)\n",
        "df_test =  pd.read_csv('yelp_test.csv', encoding='latin-1', engine='python', error_bad_lines=False)"
      ],
      "execution_count": 19,
      "outputs": []
    },
    {
      "cell_type": "markdown",
      "metadata": {
        "id": "rT2rynUVf00j"
      },
      "source": [
        "## Cleaning data"
      ]
    },
    {
      "cell_type": "code",
      "metadata": {
        "id": "0sP3I1YZf2dR"
      },
      "source": [
        "df.columns = ['label', 'review']\n",
        "df_test.columns = ['label', 'review']\n",
        "\n",
        "df['label'] = df['label'].map({1:0, 2:1})\n",
        "df_test['label'] = df_test['label'].map({1:0, 2:1})"
      ],
      "execution_count": 20,
      "outputs": []
    },
    {
      "cell_type": "markdown",
      "metadata": {
        "id": "l9guK9N6f6zp"
      },
      "source": [
        "## Splitting data"
      ]
    },
    {
      "cell_type": "code",
      "metadata": {
        "id": "-3e8ncnYf0aq"
      },
      "source": [
        "df_train, df_validate = train_test_split(df, test_size=0.2, random_state=0, stratify=df.label)"
      ],
      "execution_count": 21,
      "outputs": []
    },
    {
      "cell_type": "markdown",
      "metadata": {
        "id": "W8NYTjKdf_1V"
      },
      "source": [
        "## Processing reviews"
      ]
    },
    {
      "cell_type": "code",
      "metadata": {
        "id": "twUSlhI4TBYu"
      },
      "source": [
        "df_train['Processed_Reviews'] = df_train['review'].apply(clean_text)\n",
        "df_validate['Processed_Reviews'] = df_validate['review'].apply(clean_text)\n",
        "df_test['Processed_Reviews'] = df_test['review'].apply(clean_text)"
      ],
      "execution_count": 22,
      "outputs": []
    },
    {
      "cell_type": "markdown",
      "metadata": {
        "id": "Bruv5e2jTd8Z"
      },
      "source": [
        "### Size of train, validate and test dataset"
      ]
    },
    {
      "cell_type": "code",
      "metadata": {
        "id": "XIEYqFLVNR3P",
        "colab": {
          "base_uri": "https://localhost:8080/"
        },
        "outputId": "841db8d0-bcc3-4e46-aa52-845eb6607cd1"
      },
      "source": [
        "print(\"Train set size: \", len(df_train))\n",
        "print(\"Validation set size: \", len(df_validate))\n",
        "print(\"Test set size: \", len(df_test))"
      ],
      "execution_count": 23,
      "outputs": [
        {
          "output_type": "stream",
          "text": [
            "Train set size:  447999\n",
            "Validation set size:  112000\n",
            "Test set size:  37999\n"
          ],
          "name": "stdout"
        }
      ]
    },
    {
      "cell_type": "markdown",
      "metadata": {
        "id": "sV8t0-WfGLBI"
      },
      "source": [
        "## Plot distribution of sentence length"
      ]
    },
    {
      "cell_type": "code",
      "metadata": {
        "id": "j5TaPAxbyC84",
        "colab": {
          "base_uri": "https://localhost:8080/",
          "height": 295
        },
        "outputId": "3d36e05c-c402-423a-ce3c-9e440027bd51"
      },
      "source": [
        "plt.figure()\n",
        "_ = plt.hist(df_train.Processed_Reviews.apply(lambda x: len(x.split())), bins = 100)\n",
        "plt.title('Distribution of sentence length')\n",
        "plt.xlabel('Length')\n",
        "plt.ylabel('Counts')\n",
        "plt.savefig('Yelp_Distribution_of_sentence_length.png')"
      ],
      "execution_count": 24,
      "outputs": [
        {
          "output_type": "display_data",
          "data": {
            "image/png": "[encoded data removed]",
            "text/plain": [
              "<Figure size 432x288 with 1 Axes>"
            ]
          },
          "metadata": {
            "tags": [],
            "needs_background": "light"
          }
        }
      ]
    },
    {
      "cell_type": "markdown",
      "metadata": {
        "id": "H0O7tVq4yIkw"
      },
      "source": [
        "## Word sequence to num sequence"
      ]
    },
    {
      "cell_type": "code",
      "metadata": {
        "id": "pows_9CMyJyn"
      },
      "source": [
        "word_count = {}\n",
        "def count(x):\n",
        "    for word in x.split():\n",
        "        word_count[word] = word_count.get(word, 0) + 1"
      ],
      "execution_count": 25,
      "outputs": []
    },
    {
      "cell_type": "code",
      "metadata": {
        "id": "2Jup1iVQyNoD"
      },
      "source": [
        "_ = df_train.Processed_Reviews.apply(count)"
      ],
      "execution_count": 26,
      "outputs": []
    },
    {
      "cell_type": "code",
      "metadata": {
        "id": "l5vF9IvZyQSw"
      },
      "source": [
        "df_word_count = pd.DataFrame(list(word_count.items()), columns=['word', 'count'])\n",
        "df_word_count.sort_values(by='count', ascending=False, inplace=True)\n",
        "df_word_count.set_index('word', inplace=True)"
      ],
      "execution_count": 27,
      "outputs": []
    },
    {
      "cell_type": "code",
      "metadata": {
        "id": "ACNG0rTEySoi"
      },
      "source": [
        "df_word_count.drop(['the', 'a', 'and', 'of', 'to', 'br', 'in', 'this', 'that', 's'], inplace=True)"
      ],
      "execution_count": 28,
      "outputs": []
    },
    {
      "cell_type": "code",
      "metadata": {
        "id": "4Lrm4R17yUip"
      },
      "source": [
        "vocab_size = 20000\n",
        "df_word_count = df_word_count[:vocab_size-3]"
      ],
      "execution_count": 29,
      "outputs": []
    },
    {
      "cell_type": "code",
      "metadata": {
        "id": "pfiFLshsyWkH"
      },
      "source": [
        "word2num_series = df_word_count.reset_index().reset_index().set_index('word')['index'] + 3 # reverse 0, 1, 2 for padding, BOS, EOS"
      ],
      "execution_count": 30,
      "outputs": []
    },
    {
      "cell_type": "code",
      "metadata": {
        "id": "eNBGkxpEyYrZ"
      },
      "source": [
        "X_train = df_train.Processed_Reviews.apply(lambda x: np.array([word2num_series[word] for word in x.split() if word in word2num_series], dtype=np.int32))"
      ],
      "execution_count": 31,
      "outputs": []
    },
    {
      "cell_type": "code",
      "metadata": {
        "id": "p_Yugh_wyaSy"
      },
      "source": [
        "y_train = df_train.label"
      ],
      "execution_count": 32,
      "outputs": []
    },
    {
      "cell_type": "markdown",
      "metadata": {
        "id": "Pe8XGDAdydKH"
      },
      "source": [
        "### Process validation set and test set"
      ]
    },
    {
      "cell_type": "code",
      "metadata": {
        "id": "SiEVcrLWyau5"
      },
      "source": [
        "X_val = df_validate.Processed_Reviews.apply(lambda x: np.array([word2num_series[word] for word in x.split() if word in word2num_series], dtype=np.int32))\n",
        "X_test = df_test.Processed_Reviews.apply(lambda x: np.array([word2num_series[word] for word in x.split() if word in word2num_series], dtype=np.int32))\n",
        "y_val = df_validate.label\n",
        "y_test = df_test.label"
      ],
      "execution_count": 33,
      "outputs": []
    },
    {
      "cell_type": "markdown",
      "metadata": {
        "id": "WKD44PVyymW2"
      },
      "source": [
        "### Save the data into h5 file"
      ]
    },
    {
      "cell_type": "code",
      "metadata": {
        "id": "A3SQFPFHy6Ou"
      },
      "source": [
        "X_train.to_hdf('dataset/Yelp/X_train.h5', key='s', mode='w')\n",
        "y_train.to_hdf('dataset/Yelp/y_train.h5', key='s', mode='w')\n",
        "\n",
        "X_val.to_hdf('dataset/Yelp/X_val.h5', key='s', mode='w')\n",
        "y_val.to_hdf('dataset/Yelp/y_val.h5', key='s', mode='w')\n",
        "\n",
        "X_test.to_hdf('dataset/Yelp/X_test.h5', key='s', mode='w')\n",
        "y_test.to_hdf('dataset/Yelp/y_test.h5', key='s', mode='w')\n",
        "word2num_series.to_hdf('dataset/Yelp/word2num_series.h5', key='s', mode='w')"
      ],
      "execution_count": 34,
      "outputs": []
    },
    {
      "cell_type": "code",
      "metadata": {
        "id": "nn6v6IeCiDqh"
      },
      "source": [
        ""
      ],
      "execution_count": 34,
      "outputs": []
    }
  ]
}